{
 "cells": [
  {
   "cell_type": "markdown",
   "metadata": {},
   "source": [
    "# 作業\n",
    "- 新增一個欄位 `customized_age_grp`，把 `age` 分為 (0, 10], (10, 20], (20, 30], (30, 50], (50, 100] 這五組，\n",
    "'(' 表示不包含, ']' 表示包含  \n",
    "- Hints: 執行 ??pd.cut()，了解提供其中 bins 這個參數的使用方式"
   ]
  },
  {
   "cell_type": "markdown",
   "metadata": {},
   "source": [
    "# [作業目標]\n",
    "- 請同學試著查詢 pandas.cut 這個函數還有哪些參數, 藉由改動參數以達成目標\n",
    "- 藉由查詢與改動參數的過程, 熟悉查詢函數的方法與理解參數性質, 並了解數值的離散化的調整工具"
   ]
  },
  {
   "cell_type": "markdown",
   "metadata": {},
   "source": [
    "# [作業重點]\n",
    "- 仿照 In[3], In[4] 的語法, 並設定 pd.cut 的參數以指定間距"
   ]
  },
  {
   "cell_type": "code",
   "execution_count": 1,
   "metadata": {},
   "outputs": [],
   "source": [
    "# 載入套件\n",
    "import os\n",
    "import numpy as np\n",
    "import pandas as pd\n",
    "\n",
    "import matplotlib.pyplot as plt\n",
    "%matplotlib inline"
   ]
  },
  {
   "cell_type": "code",
   "execution_count": 2,
   "metadata": {},
   "outputs": [],
   "source": [
    "# 初始設定 Ages 的資料\n",
    "ages = pd.DataFrame({\"age\": [18,22,25,27,7,21,23,37,30,61,45,41,9,18,80,100]})"
   ]
  },
  {
   "cell_type": "markdown",
   "metadata": {},
   "source": [
    "#### 等寬劃分"
   ]
  },
  {
   "cell_type": "code",
   "execution_count": 3,
   "metadata": {},
   "outputs": [],
   "source": [
    "# 新增欄位 \"equal_width_age\", 對年齡做等寬劃分\n",
    "ages[\"equal_width_age\"] = pd.cut(ages[\"age\"], 4)"
   ]
  },
  {
   "cell_type": "code",
   "execution_count": 4,
   "metadata": {},
   "outputs": [
    {
     "data": {
      "text/plain": [
       "(6.907, 30.25]    10\n",
       "(30.25, 53.5]      3\n",
       "(76.75, 100.0]     2\n",
       "(53.5, 76.75]      1\n",
       "Name: equal_width_age, dtype: int64"
      ]
     },
     "execution_count": 4,
     "metadata": {},
     "output_type": "execute_result"
    }
   ],
   "source": [
    "# 觀察等寬劃分下, 每個種組距各出現幾次\n",
    "ages[\"equal_width_age\"].value_counts() # 每個 bin 的值的範圍大小都是一樣的"
   ]
  },
  {
   "cell_type": "markdown",
   "metadata": {},
   "source": [
    "#### 等頻劃分"
   ]
  },
  {
   "cell_type": "code",
   "execution_count": 5,
   "metadata": {},
   "outputs": [],
   "source": [
    "# 新增欄位 \"equal_freq_age\", 對年齡做等頻劃分\n",
    "ages[\"equal_freq_age\"] = pd.qcut(ages[\"age\"], 4)"
   ]
  },
  {
   "cell_type": "code",
   "execution_count": 6,
   "metadata": {},
   "outputs": [
    {
     "data": {
      "text/plain": [
       "(42.0, 100.0]     4\n",
       "(26.0, 42.0]      4\n",
       "(20.25, 26.0]     4\n",
       "(6.999, 20.25]    4\n",
       "Name: equal_freq_age, dtype: int64"
      ]
     },
     "execution_count": 6,
     "metadata": {},
     "output_type": "execute_result"
    }
   ],
   "source": [
    "# 觀察等頻劃分下, 每個種組距各出現幾次\n",
    "ages[\"equal_freq_age\"].value_counts() # 每個 bin 的資料筆數是一樣的"
   ]
  },
  {
   "cell_type": "code",
   "execution_count": 8,
   "metadata": {},
   "outputs": [
    {
     "data": {
      "text/plain": [
       "\"\\nx : array-like\\n    The input array to be binned. Must be 1-dimensional.\\nbins : int, sequence of scalars, or pandas.IntervalIndex\\n    The criteria to bin by.\\n\\n    * int : Defines the number of equal-width bins in the range of `x`. The\\n      range of `x` is extended by .1% on each side to include the minimum\\n      and maximum values of `x`.\\n    * sequence of scalars : Defines the bin edges allowing for non-uniform\\n      width. No extension of the range of `x` is done.\\n    * IntervalIndex : Defines the exact bins to be used.\\n\\nright : bool, default True\\n    Indicates whether `bins` includes the rightmost edge or not. If\\n    ``right == True`` (the default), then the `bins` ``[1, 2, 3, 4]``\\n    indicate (1,2], (2,3], (3,4]. This argument is ignored when\\n    `bins` is an IntervalIndex.\\nlabels : array or bool, optional\\n    Specifies the labels for the returned bins. Must be the same length as\\n    the resulting bins. If False, returns only integer indicators of the\\n    bins. This affects the type of the output container (see below).\\n    This argument is ignored when `bins` is an IntervalIndex.\\nretbins : bool, default False\\n    Whether to return the bins or not. Useful when bins is provided\\n    as a scalar.\\nprecision : int, default 3\\n    The precision at which to store and display the bins labels.\\ninclude_lowest : bool, default False\\n    Whether the first interval should be left-inclusive or not.\\nduplicates : {default 'raise', 'drop'}, optional\\n    If bin edges are not unique, raise ValueError or drop non-uniques.\\n\""
      ]
     },
     "execution_count": 8,
     "metadata": {},
     "output_type": "execute_result"
    }
   ],
   "source": [
    "\"\"\"\n",
    "x : array-like\n",
    "    The input array to be binned. Must be 1-dimensional.\n",
    "bins : int, sequence of scalars, or pandas.IntervalIndex\n",
    "    The criteria to bin by.\n",
    "\n",
    "    * int : Defines the number of equal-width bins in the range of `x`. The\n",
    "      range of `x` is extended by .1% on each side to include the minimum\n",
    "      and maximum values of `x`.\n",
    "    * sequence of scalars : Defines the bin edges allowing for non-uniform\n",
    "      width. No extension of the range of `x` is done.\n",
    "    * IntervalIndex : Defines the exact bins to be used.\n",
    "\n",
    "right : bool, default True\n",
    "    Indicates whether `bins` includes the rightmost edge or not. If\n",
    "    ``right == True`` (the default), then the `bins` ``[1, 2, 3, 4]``\n",
    "    indicate (1,2], (2,3], (3,4]. This argument is ignored when\n",
    "    `bins` is an IntervalIndex.\n",
    "labels : array or bool, optional\n",
    "    Specifies the labels for the returned bins. Must be the same length as\n",
    "    the resulting bins. If False, returns only integer indicators of the\n",
    "    bins. This affects the type of the output container (see below).\n",
    "    This argument is ignored when `bins` is an IntervalIndex.\n",
    "retbins : bool, default False\n",
    "    Whether to return the bins or not. Useful when bins is provided\n",
    "    as a scalar.\n",
    "precision : int, default 3\n",
    "    The precision at which to store and display the bins labels.\n",
    "include_lowest : bool, default False\n",
    "    Whether the first interval should be left-inclusive or not.\n",
    "duplicates : {default 'raise', 'drop'}, optional\n",
    "    If bin edges are not unique, raise ValueError or drop non-uniques.\n",
    "\"\"\""
   ]
  }
 ],
 "metadata": {
  "kernelspec": {
   "display_name": "Python 3",
   "language": "python",
   "name": "python3"
  },
  "language_info": {
   "codemirror_mode": {
    "name": "ipython",
    "version": 3
   },
   "file_extension": ".py",
   "mimetype": "text/x-python",
   "name": "python",
   "nbconvert_exporter": "python",
   "pygments_lexer": "ipython3",
   "version": "3.7.1"
  }
 },
 "nbformat": 4,
 "nbformat_minor": 2
}
